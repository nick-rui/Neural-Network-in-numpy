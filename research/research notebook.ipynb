{
  "nbformat": 4,
  "nbformat_minor": 0,
  "metadata": {
    "colab": {
      "provenance": [],
      "toc_visible": true
    },
    "kernelspec": {
      "name": "python3",
      "display_name": "Python 3"
    },
    "language_info": {
      "name": "python"
    }
  },
  "cells": [
    {
      "cell_type": "code",
      "execution_count": null,
      "metadata": {
        "id": "-5NIQu6v2WNv"
      },
      "outputs": [],
      "source": [
        "import numpy as np\n",
        "import pandas as pd"
      ]
    },
    {
      "cell_type": "markdown",
      "source": [
        "## Neural Network"
      ],
      "metadata": {
        "id": "q--GlyCuRi5W"
      }
    },
    {
      "cell_type": "markdown",
      "source": [
        "### Helper Functions For Gradient Descent"
      ],
      "metadata": {
        "id": "XiBI1cXs_oBo"
      }
    },
    {
      "cell_type": "code",
      "source": [
        "def initialize_parameters():\n",
        "  W1 = np.random.rand(10, 784) - 0.5\n",
        "  b1 = np.random.rand(10, 1) - 0.5\n",
        "  W2 = np.random.rand(10, 10) - 0.5\n",
        "  b2 = np.random.rand(10, 1) - 0.5\n",
        "  return W1, b1, W2, b2"
      ],
      "metadata": {
        "id": "V95Zx85c_qw1"
      },
      "execution_count": null,
      "outputs": []
    },
    {
      "cell_type": "code",
      "source": [
        "def ReLU(x): # x is an array\n",
        "  return np.maximum(0, x) # operates element-wise on array x"
      ],
      "metadata": {
        "id": "k-JKMvMeAd4x"
      },
      "execution_count": null,
      "outputs": []
    },
    {
      "cell_type": "code",
      "source": [
        "def deriv_ReLU(x): # x is an array\n",
        "  return np.where(x > 0, 1, 0)"
      ],
      "metadata": {
        "id": "UCwhqW_JJhAj"
      },
      "execution_count": null,
      "outputs": []
    },
    {
      "cell_type": "code",
      "source": [
        "def softmax(x):\n",
        "    A = np.exp(x) / np.sum(np.exp(x), axis=0)  # Sum along axis 0 (columns)\n",
        "    return A"
      ],
      "metadata": {
        "id": "5557dtm7BANb"
      },
      "execution_count": null,
      "outputs": []
    },
    {
      "cell_type": "code",
      "source": [
        "def forward_prop(W1, b1, W2, b2, a0):\n",
        "  z1 = W1.dot(a0) + b1  # (10 x 784) dot (784 x N) + (10 x 1) = (10 x N)\n",
        "  a1 = ReLU(z1)         # (10 x N)\n",
        "  z2 = W2.dot(a1) + b2 # (10 x 10) dot (10 x N) + (10 x 1) = (10 x N)\n",
        "  a2 = softmax(z2)      # (10 x N)\n",
        "  return z1, a1, z2, a2"
      ],
      "metadata": {
        "id": "cEGV5klfALJd"
      },
      "execution_count": null,
      "outputs": []
    },
    {
      "cell_type": "code",
      "source": [
        "def one_hot(labels):\n",
        "  num_classes = labels.max() + 1  # Determine the number of unique classes/labels\n",
        "  num_samples = labels.size      # Get the number of data samples\n",
        "  one_hot_labels = np.zeros((num_samples, num_classes)) # Create a 2D array with the correct shape\n",
        "  one_hot_labels[np.arange(num_samples), labels] = 1 # Set the appropriate elements to 1\n",
        "  return one_hot_labels.T # Transpose the array for the desired output shape (10 x N)"
      ],
      "metadata": {
        "id": "N5l5A_rUBnb9"
      },
      "execution_count": null,
      "outputs": []
    },
    {
      "cell_type": "code",
      "source": [
        "def backprop(a0, z1, a1, z2, a2, W2, labels):\n",
        "  N = labels.size\n",
        "  y = one_hot(labels) # (10 x N)\n",
        "  delta2 = a2 - y     # (10 x N) (each delta_l is a column)\n",
        "  dC_dW2 = (1 / N) * delta2.dot(a1.T)   # (10 x N) dot (N x 10) = (10 x 10)\n",
        "  dC_db2 = (1 / N) * np.sum(delta2, axis=1, keepdims=True)  # (10 x 1)  (average columns of delta2)\n",
        "  delta1 = W2.T.dot(delta2) * deriv_ReLU(z1)\n",
        "  dC_dW1 = (1 / N) * delta1.dot(a0.T)\n",
        "  dC_db1 = (1 / N) * np.sum(delta1, axis=1, keepdims=True)\n",
        "  return dC_dW1, dC_db1, dC_dW2, dC_db2"
      ],
      "metadata": {
        "id": "ahauTY2kBjlH"
      },
      "execution_count": null,
      "outputs": []
    },
    {
      "cell_type": "code",
      "source": [
        "def update_parameters(W1, b1, W2, b2, dC_dW1, dC_db1, dC_dW2, dC_db2, alpha):\n",
        "  W1 = W1 - (alpha * dC_dW1)\n",
        "  b1 = b1 - (alpha * dC_db1)\n",
        "  W2 = W2 - (alpha * dC_dW2)\n",
        "  b2 = b2 - (alpha * dC_db2)\n",
        "  return W1, b1, W2, b2"
      ],
      "metadata": {
        "id": "wuoDRxqiKxmh"
      },
      "execution_count": null,
      "outputs": []
    },
    {
      "cell_type": "code",
      "source": [
        "def get_predictions(a2):\n",
        "  return np.argmax(a2, 0)"
      ],
      "metadata": {
        "id": "2uzX3lwULxY6"
      },
      "execution_count": null,
      "outputs": []
    },
    {
      "cell_type": "code",
      "source": [
        "def get_accuracy(predictions, labels):\n",
        "  return np.sum(predictions == labels) / labels.size"
      ],
      "metadata": {
        "id": "Mb7i-0eCQUBE"
      },
      "execution_count": null,
      "outputs": []
    },
    {
      "cell_type": "markdown",
      "source": [
        "### Gradient Descent Algorithm"
      ],
      "metadata": {
        "id": "Cv9YcZfGNo2e"
      }
    },
    {
      "cell_type": "code",
      "source": [
        "def gradient_descent(train_data, labels, iterations, learning_rate):\n",
        "  a0 = train_data\n",
        "  alpha = learning_rate\n",
        "  W1, b1, W2, b2 = initialize_parameters()\n",
        "  for i in range(iterations):\n",
        "    z1, a1, z2, a2 = forward_prop(W1, b1, W2, b2, a0)\n",
        "    dC_dW1, dC_db1, dC_dW2, dC_db2 = backprop(a0, z1, a1, z2, a2, W2, labels)\n",
        "    W1, b1, W2, b2 = update_parameters(W1, b1, W2, b2, dC_dW1, dC_db1, dC_dW2, dC_db2, alpha)\n",
        "\n",
        "    if i % 10 == 0:\n",
        "      predictions = get_predictions(a2)\n",
        "      accuracy = get_accuracy(predictions, labels)\n",
        "      print(f\"Iteration: {i}\")\n",
        "      print(predictions, labels)\n",
        "      print(f\"Accuracy: {accuracy}\")\n",
        "\n",
        "  return W1, b1, W2, b2"
      ],
      "metadata": {
        "id": "ue3x0dIFNu2u"
      },
      "execution_count": null,
      "outputs": []
    },
    {
      "cell_type": "markdown",
      "source": [
        "## Creating and Training\n"
      ],
      "metadata": {
        "id": "rlobqBVYRHCP"
      }
    },
    {
      "cell_type": "markdown",
      "source": [
        "### Read in MNIST Data File\n",
        "\n",
        "\n"
      ],
      "metadata": {
        "id": "f8lola1W8cPC"
      }
    },
    {
      "cell_type": "code",
      "source": [
        "from google.colab import drive\n",
        "drive.mount('/content/drive')\n",
        "drive.mount(\"/content/drive\", force_remount=True)\n",
        "\n",
        "train_data = pd.read_csv(\"/content/drive/My Drive/profesh/digit_classifier/mnist_train.csv\")"
      ],
      "metadata": {
        "colab": {
          "base_uri": "https://localhost:8080/",
          "height": 356
        },
        "id": "XSr56zbwRvLn",
        "outputId": "5343e1d9-b172-4fe5-87d3-823fdc26ae4b"
      },
      "execution_count": null,
      "outputs": [
        {
          "output_type": "error",
          "ename": "MessageError",
          "evalue": "Error: credential propagation was unsuccessful",
          "traceback": [
            "\u001b[0;31m---------------------------------------------------------------------------\u001b[0m",
            "\u001b[0;31mMessageError\u001b[0m                              Traceback (most recent call last)",
            "\u001b[0;32m<ipython-input-1-af071472de82>\u001b[0m in \u001b[0;36m<cell line: 2>\u001b[0;34m()\u001b[0m\n\u001b[1;32m      1\u001b[0m \u001b[0;32mfrom\u001b[0m \u001b[0mgoogle\u001b[0m\u001b[0;34m.\u001b[0m\u001b[0mcolab\u001b[0m \u001b[0;32mimport\u001b[0m \u001b[0mdrive\u001b[0m\u001b[0;34m\u001b[0m\u001b[0;34m\u001b[0m\u001b[0m\n\u001b[0;32m----> 2\u001b[0;31m \u001b[0mdrive\u001b[0m\u001b[0;34m.\u001b[0m\u001b[0mmount\u001b[0m\u001b[0;34m(\u001b[0m\u001b[0;34m'/content/drive'\u001b[0m\u001b[0;34m)\u001b[0m\u001b[0;34m\u001b[0m\u001b[0;34m\u001b[0m\u001b[0m\n\u001b[0m\u001b[1;32m      3\u001b[0m \u001b[0mdrive\u001b[0m\u001b[0;34m.\u001b[0m\u001b[0mmount\u001b[0m\u001b[0;34m(\u001b[0m\u001b[0;34m\"/content/drive\"\u001b[0m\u001b[0;34m,\u001b[0m \u001b[0mforce_remount\u001b[0m\u001b[0;34m=\u001b[0m\u001b[0;32mTrue\u001b[0m\u001b[0;34m)\u001b[0m\u001b[0;34m\u001b[0m\u001b[0;34m\u001b[0m\u001b[0m\n\u001b[1;32m      4\u001b[0m \u001b[0;34m\u001b[0m\u001b[0m\n\u001b[1;32m      5\u001b[0m \u001b[0mtrain_data\u001b[0m \u001b[0;34m=\u001b[0m \u001b[0mpd\u001b[0m\u001b[0;34m.\u001b[0m\u001b[0mread_csv\u001b[0m\u001b[0;34m(\u001b[0m\u001b[0;34m\"/content/drive/My Drive/profesh/digit_classifier/mnist_train.csv\"\u001b[0m\u001b[0;34m)\u001b[0m\u001b[0;34m\u001b[0m\u001b[0;34m\u001b[0m\u001b[0m\n",
            "\u001b[0;32m/usr/local/lib/python3.10/dist-packages/google/colab/drive.py\u001b[0m in \u001b[0;36mmount\u001b[0;34m(mountpoint, force_remount, timeout_ms, readonly)\u001b[0m\n\u001b[1;32m     98\u001b[0m \u001b[0;32mdef\u001b[0m \u001b[0mmount\u001b[0m\u001b[0;34m(\u001b[0m\u001b[0mmountpoint\u001b[0m\u001b[0;34m,\u001b[0m \u001b[0mforce_remount\u001b[0m\u001b[0;34m=\u001b[0m\u001b[0;32mFalse\u001b[0m\u001b[0;34m,\u001b[0m \u001b[0mtimeout_ms\u001b[0m\u001b[0;34m=\u001b[0m\u001b[0;36m120000\u001b[0m\u001b[0;34m,\u001b[0m \u001b[0mreadonly\u001b[0m\u001b[0;34m=\u001b[0m\u001b[0;32mFalse\u001b[0m\u001b[0;34m)\u001b[0m\u001b[0;34m:\u001b[0m\u001b[0;34m\u001b[0m\u001b[0;34m\u001b[0m\u001b[0m\n\u001b[1;32m     99\u001b[0m   \u001b[0;34m\"\"\"Mount your Google Drive at the specified mountpoint path.\"\"\"\u001b[0m\u001b[0;34m\u001b[0m\u001b[0;34m\u001b[0m\u001b[0m\n\u001b[0;32m--> 100\u001b[0;31m   return _mount(\n\u001b[0m\u001b[1;32m    101\u001b[0m       \u001b[0mmountpoint\u001b[0m\u001b[0;34m,\u001b[0m\u001b[0;34m\u001b[0m\u001b[0;34m\u001b[0m\u001b[0m\n\u001b[1;32m    102\u001b[0m       \u001b[0mforce_remount\u001b[0m\u001b[0;34m=\u001b[0m\u001b[0mforce_remount\u001b[0m\u001b[0;34m,\u001b[0m\u001b[0;34m\u001b[0m\u001b[0;34m\u001b[0m\u001b[0m\n",
            "\u001b[0;32m/usr/local/lib/python3.10/dist-packages/google/colab/drive.py\u001b[0m in \u001b[0;36m_mount\u001b[0;34m(mountpoint, force_remount, timeout_ms, ephemeral, readonly)\u001b[0m\n\u001b[1;32m    135\u001b[0m   )\n\u001b[1;32m    136\u001b[0m   \u001b[0;32mif\u001b[0m \u001b[0mephemeral\u001b[0m\u001b[0;34m:\u001b[0m\u001b[0;34m\u001b[0m\u001b[0;34m\u001b[0m\u001b[0m\n\u001b[0;32m--> 137\u001b[0;31m     _message.blocking_request(\n\u001b[0m\u001b[1;32m    138\u001b[0m         \u001b[0;34m'request_auth'\u001b[0m\u001b[0;34m,\u001b[0m\u001b[0;34m\u001b[0m\u001b[0;34m\u001b[0m\u001b[0m\n\u001b[1;32m    139\u001b[0m         \u001b[0mrequest\u001b[0m\u001b[0;34m=\u001b[0m\u001b[0;34m{\u001b[0m\u001b[0;34m'authType'\u001b[0m\u001b[0;34m:\u001b[0m \u001b[0;34m'dfs_ephemeral'\u001b[0m\u001b[0;34m}\u001b[0m\u001b[0;34m,\u001b[0m\u001b[0;34m\u001b[0m\u001b[0;34m\u001b[0m\u001b[0m\n",
            "\u001b[0;32m/usr/local/lib/python3.10/dist-packages/google/colab/_message.py\u001b[0m in \u001b[0;36mblocking_request\u001b[0;34m(request_type, request, timeout_sec, parent)\u001b[0m\n\u001b[1;32m    174\u001b[0m       \u001b[0mrequest_type\u001b[0m\u001b[0;34m,\u001b[0m \u001b[0mrequest\u001b[0m\u001b[0;34m,\u001b[0m \u001b[0mparent\u001b[0m\u001b[0;34m=\u001b[0m\u001b[0mparent\u001b[0m\u001b[0;34m,\u001b[0m \u001b[0mexpect_reply\u001b[0m\u001b[0;34m=\u001b[0m\u001b[0;32mTrue\u001b[0m\u001b[0;34m\u001b[0m\u001b[0;34m\u001b[0m\u001b[0m\n\u001b[1;32m    175\u001b[0m   )\n\u001b[0;32m--> 176\u001b[0;31m   \u001b[0;32mreturn\u001b[0m \u001b[0mread_reply_from_input\u001b[0m\u001b[0;34m(\u001b[0m\u001b[0mrequest_id\u001b[0m\u001b[0;34m,\u001b[0m \u001b[0mtimeout_sec\u001b[0m\u001b[0;34m)\u001b[0m\u001b[0;34m\u001b[0m\u001b[0;34m\u001b[0m\u001b[0m\n\u001b[0m",
            "\u001b[0;32m/usr/local/lib/python3.10/dist-packages/google/colab/_message.py\u001b[0m in \u001b[0;36mread_reply_from_input\u001b[0;34m(message_id, timeout_sec)\u001b[0m\n\u001b[1;32m    101\u001b[0m     ):\n\u001b[1;32m    102\u001b[0m       \u001b[0;32mif\u001b[0m \u001b[0;34m'error'\u001b[0m \u001b[0;32min\u001b[0m \u001b[0mreply\u001b[0m\u001b[0;34m:\u001b[0m\u001b[0;34m\u001b[0m\u001b[0;34m\u001b[0m\u001b[0m\n\u001b[0;32m--> 103\u001b[0;31m         \u001b[0;32mraise\u001b[0m \u001b[0mMessageError\u001b[0m\u001b[0;34m(\u001b[0m\u001b[0mreply\u001b[0m\u001b[0;34m[\u001b[0m\u001b[0;34m'error'\u001b[0m\u001b[0;34m]\u001b[0m\u001b[0;34m)\u001b[0m\u001b[0;34m\u001b[0m\u001b[0;34m\u001b[0m\u001b[0m\n\u001b[0m\u001b[1;32m    104\u001b[0m       \u001b[0;32mreturn\u001b[0m \u001b[0mreply\u001b[0m\u001b[0;34m.\u001b[0m\u001b[0mget\u001b[0m\u001b[0;34m(\u001b[0m\u001b[0;34m'data'\u001b[0m\u001b[0;34m,\u001b[0m \u001b[0;32mNone\u001b[0m\u001b[0;34m)\u001b[0m\u001b[0;34m\u001b[0m\u001b[0;34m\u001b[0m\u001b[0m\n\u001b[1;32m    105\u001b[0m \u001b[0;34m\u001b[0m\u001b[0m\n",
            "\u001b[0;31mMessageError\u001b[0m: Error: credential propagation was unsuccessful"
          ]
        }
      ]
    },
    {
      "cell_type": "markdown",
      "source": [
        "### Parse Data"
      ],
      "metadata": {
        "id": "LTiG5fEj8ryf"
      }
    },
    {
      "cell_type": "code",
      "source": [
        "train_data = np.array(train_data)\n",
        "labels = train_data[:,0] # the first column\n",
        "train_data = train_data[:,1:].T # slice out the first column, transpose so each input is a column\n",
        "train_data = train_data / 255.0\n"
      ],
      "metadata": {
        "id": "A0cTz8eW8zsj"
      },
      "execution_count": null,
      "outputs": []
    },
    {
      "cell_type": "markdown",
      "source": [
        "### Training Neural Network"
      ],
      "metadata": {
        "id": "p7TqGemgSBXQ"
      }
    },
    {
      "cell_type": "code",
      "source": [
        "W1, b1, W2, b2 = gradient_descent(train_data, labels, 1000, 0.1)"
      ],
      "metadata": {
        "colab": {
          "base_uri": "https://localhost:8080/"
        },
        "id": "GvbnlPABSClg",
        "outputId": "70117a2d-5191-41e1-8a28-de95f61b493b"
      },
      "execution_count": null,
      "outputs": [
        {
          "output_type": "stream",
          "name": "stdout",
          "text": [
            "Iteration: 0\n",
            "[4 9 9 ... 9 9 9] [0 4 1 ... 5 6 8]\n",
            "Accuracy: 0.09113485224753747\n",
            "Iteration: 10\n",
            "[2 4 7 ... 5 7 7] [0 4 1 ... 5 6 8]\n",
            "Accuracy: 0.17953632560542676\n",
            "Iteration: 20\n",
            "[0 4 1 ... 5 7 7] [0 4 1 ... 5 6 8]\n",
            "Accuracy: 0.27443790729845496\n",
            "Iteration: 30\n",
            "[0 4 1 ... 5 7 7] [0 4 1 ... 5 6 8]\n",
            "Accuracy: 0.37340622343705726\n",
            "Iteration: 40\n",
            "[0 4 1 ... 5 7 7] [0 4 1 ... 5 6 8]\n",
            "Accuracy: 0.4248904148402473\n",
            "Iteration: 50\n",
            "[0 4 1 ... 5 7 6] [0 4 1 ... 5 6 8]\n",
            "Accuracy: 0.471341189019817\n",
            "Iteration: 60\n",
            "[0 4 1 ... 5 7 6] [0 4 1 ... 5 6 8]\n",
            "Accuracy: 0.5148252470874515\n",
            "Iteration: 70\n",
            "[0 4 1 ... 5 6 6] [0 4 1 ... 5 6 8]\n",
            "Accuracy: 0.5565092751545859\n",
            "Iteration: 80\n",
            "[0 4 1 ... 5 6 6] [0 4 1 ... 5 6 8]\n",
            "Accuracy: 0.5936932282204703\n",
            "Iteration: 90\n",
            "[0 4 1 ... 5 6 6] [0 4 1 ... 5 6 8]\n",
            "Accuracy: 0.6240770679511325\n",
            "Iteration: 100\n",
            "[0 4 1 ... 5 6 6] [0 4 1 ... 5 6 8]\n",
            "Accuracy: 0.6483941399023317\n",
            "Iteration: 110\n",
            "[0 4 1 ... 5 6 6] [0 4 1 ... 5 6 8]\n",
            "Accuracy: 0.6680278004633411\n",
            "Iteration: 120\n",
            "[0 4 1 ... 5 6 6] [0 4 1 ... 5 6 8]\n",
            "Accuracy: 0.6853947565792763\n",
            "Iteration: 130\n",
            "[0 4 1 ... 5 6 6] [0 4 1 ... 5 6 8]\n",
            "Accuracy: 0.7016950282504708\n",
            "Iteration: 140\n",
            "[0 4 1 ... 5 6 6] [0 4 1 ... 5 6 8]\n",
            "Accuracy: 0.7142119035317255\n",
            "Iteration: 150\n",
            "[0 4 1 ... 5 6 6] [0 4 1 ... 5 6 8]\n",
            "Accuracy: 0.7258454307571793\n",
            "Iteration: 160\n",
            "[0 4 1 ... 5 6 6] [0 4 1 ... 5 6 8]\n",
            "Accuracy: 0.7359122652044201\n",
            "Iteration: 170\n",
            "[0 4 1 ... 5 6 6] [0 4 1 ... 5 6 8]\n",
            "Accuracy: 0.74509575159586\n",
            "Iteration: 180\n",
            "[0 4 1 ... 5 6 6] [0 4 1 ... 5 6 8]\n",
            "Accuracy: 0.7535625593759896\n",
            "Iteration: 190\n",
            "[0 4 1 ... 5 6 6] [0 4 1 ... 5 6 8]\n",
            "Accuracy: 0.7608960149335823\n",
            "Iteration: 200\n",
            "[0 4 1 ... 5 6 6] [0 4 1 ... 5 6 8]\n",
            "Accuracy: 0.7679127985466424\n",
            "Iteration: 210\n",
            "[0 4 1 ... 5 6 6] [0 4 1 ... 5 6 8]\n",
            "Accuracy: 0.7746629110485175\n",
            "Iteration: 220\n",
            "[0 4 1 ... 5 6 6] [0 4 1 ... 5 6 8]\n",
            "Accuracy: 0.7807963466057768\n",
            "Iteration: 230\n",
            "[0 4 1 ... 5 6 6] [0 4 1 ... 5 6 8]\n",
            "Accuracy: 0.7858297638293972\n",
            "Iteration: 240\n",
            "[0 4 1 ... 5 6 6] [0 4 1 ... 5 6 8]\n",
            "Accuracy: 0.7906965116085268\n",
            "Iteration: 250\n",
            "[0 4 1 ... 5 6 6] [0 4 1 ... 5 6 8]\n",
            "Accuracy: 0.7953299221653695\n",
            "Iteration: 260\n",
            "[0 4 1 ... 5 6 6] [0 4 1 ... 5 6 8]\n",
            "Accuracy: 0.7999799996666611\n",
            "Iteration: 270\n",
            "[0 4 1 ... 5 6 6] [0 4 1 ... 5 6 8]\n",
            "Accuracy: 0.8037133952232537\n",
            "Iteration: 280\n",
            "[0 4 1 ... 5 6 8] [0 4 1 ... 5 6 8]\n",
            "Accuracy: 0.8075301255020917\n",
            "Iteration: 290\n",
            "[0 4 1 ... 5 6 8] [0 4 1 ... 5 6 8]\n",
            "Accuracy: 0.8112135202253371\n",
            "Iteration: 300\n",
            "[0 4 1 ... 5 6 8] [0 4 1 ... 5 6 8]\n",
            "Accuracy: 0.8144135735595593\n",
            "Iteration: 310\n",
            "[0 4 1 ... 5 6 8] [0 4 1 ... 5 6 8]\n",
            "Accuracy: 0.8172802880048001\n",
            "Iteration: 320\n",
            "[0 4 1 ... 5 6 8] [0 4 1 ... 5 6 8]\n",
            "Accuracy: 0.8203303388389807\n",
            "Iteration: 330\n",
            "[0 4 1 ... 5 6 8] [0 4 1 ... 5 6 8]\n",
            "Accuracy: 0.8230303838397307\n",
            "Iteration: 340\n",
            "[0 4 1 ... 5 6 8] [0 4 1 ... 5 6 8]\n",
            "Accuracy: 0.8258970982849714\n",
            "Iteration: 350\n",
            "[0 4 1 ... 5 6 8] [0 4 1 ... 5 6 8]\n",
            "Accuracy: 0.8283471391189853\n",
            "Iteration: 360\n",
            "[0 4 1 ... 5 6 8] [0 4 1 ... 5 6 8]\n",
            "Accuracy: 0.8303805063417724\n",
            "Iteration: 370\n",
            "[0 4 1 ... 5 6 8] [0 4 1 ... 5 6 8]\n",
            "Accuracy: 0.8324638743979066\n",
            "Iteration: 380\n",
            "[0 4 1 ... 5 6 8] [0 4 1 ... 5 6 8]\n",
            "Accuracy: 0.8348972482874715\n",
            "Iteration: 390\n",
            "[0 4 1 ... 5 6 8] [0 4 1 ... 5 6 8]\n",
            "Accuracy: 0.8369639493991566\n",
            "Iteration: 400\n",
            "[0 4 1 ... 5 6 8] [0 4 1 ... 5 6 8]\n",
            "Accuracy: 0.8388806480108002\n",
            "Iteration: 410\n",
            "[0 4 1 ... 5 6 8] [0 4 1 ... 5 6 8]\n",
            "Accuracy: 0.8405140085668095\n",
            "Iteration: 420\n",
            "[0 4 1 ... 5 6 8] [0 4 1 ... 5 6 8]\n",
            "Accuracy: 0.8421973699561659\n",
            "Iteration: 430\n",
            "[0 4 1 ... 5 6 8] [0 4 1 ... 5 6 8]\n",
            "Accuracy: 0.8436140602343373\n",
            "Iteration: 440\n",
            "[0 4 1 ... 5 6 8] [0 4 1 ... 5 6 8]\n",
            "Accuracy: 0.8450140835680595\n",
            "Iteration: 450\n",
            "[0 4 1 ... 5 6 8] [0 4 1 ... 5 6 8]\n",
            "Accuracy: 0.8467807796796614\n",
            "Iteration: 460\n",
            "[0 4 1 ... 5 6 8] [0 4 1 ... 5 6 8]\n",
            "Accuracy: 0.8483641394023234\n",
            "Iteration: 470\n",
            "[0 4 1 ... 5 6 8] [0 4 1 ... 5 6 8]\n",
            "Accuracy: 0.8499141652360873\n",
            "Iteration: 480\n",
            "[0 4 1 ... 5 6 8] [0 4 1 ... 5 6 8]\n",
            "Accuracy: 0.8515641927365456\n",
            "Iteration: 490\n",
            "[0 4 1 ... 5 6 8] [0 4 1 ... 5 6 8]\n",
            "Accuracy: 0.8528142135702261\n",
            "Iteration: 500\n",
            "[0 4 1 ... 5 6 8] [0 4 1 ... 5 6 8]\n",
            "Accuracy: 0.8540475674594576\n",
            "Iteration: 510\n",
            "[0 4 1 ... 5 6 8] [0 4 1 ... 5 6 8]\n",
            "Accuracy: 0.8552309205153419\n",
            "Iteration: 520\n",
            "[0 4 1 ... 5 6 8] [0 4 1 ... 5 6 8]\n",
            "Accuracy: 0.8564642744045734\n",
            "Iteration: 530\n",
            "[0 4 1 ... 5 6 8] [0 4 1 ... 5 6 8]\n",
            "Accuracy: 0.8575809596826613\n",
            "Iteration: 540\n",
            "[0 4 1 ... 5 6 8] [0 4 1 ... 5 6 8]\n",
            "Accuracy: 0.8585643094051567\n",
            "Iteration: 550\n",
            "[0 4 1 ... 5 6 8] [0 4 1 ... 5 6 8]\n",
            "Accuracy: 0.8596309938498975\n",
            "Iteration: 560\n",
            "[0 4 1 ... 5 6 8] [0 4 1 ... 5 6 8]\n",
            "Accuracy: 0.8605310088501475\n",
            "Iteration: 570\n",
            "[0 4 1 ... 5 6 8] [0 4 1 ... 5 6 8]\n",
            "Accuracy: 0.8615810263504392\n",
            "Iteration: 580\n",
            "[0 4 1 ... 5 6 8] [0 4 1 ... 5 6 8]\n",
            "Accuracy: 0.8626310438507309\n",
            "Iteration: 590\n",
            "[0 4 1 ... 5 6 8] [0 4 1 ... 5 6 8]\n",
            "Accuracy: 0.8633477224620411\n",
            "Iteration: 600\n",
            "[0 4 1 ... 5 6 8] [0 4 1 ... 5 6 8]\n",
            "Accuracy: 0.864231070517842\n",
            "Iteration: 610\n",
            "[0 4 1 ... 5 6 8] [0 4 1 ... 5 6 8]\n",
            "Accuracy: 0.8649810830180503\n",
            "Iteration: 620\n",
            "[0 4 1 ... 5 6 8] [0 4 1 ... 5 6 8]\n",
            "Accuracy: 0.8658477641294021\n",
            "Iteration: 630\n",
            "[0 4 1 ... 5 6 8] [0 4 1 ... 5 6 8]\n",
            "Accuracy: 0.8666144435740596\n",
            "Iteration: 640\n",
            "[0 4 1 ... 5 6 8] [0 4 1 ... 5 6 8]\n",
            "Accuracy: 0.8672644544075735\n",
            "Iteration: 650\n",
            "[0 4 1 ... 5 6 8] [0 4 1 ... 5 6 8]\n",
            "Accuracy: 0.867814463574393\n",
            "Iteration: 660\n",
            "[0 4 1 ... 5 6 8] [0 4 1 ... 5 6 8]\n",
            "Accuracy: 0.8681644694078234\n",
            "Iteration: 670\n",
            "[0 4 1 ... 5 6 8] [0 4 1 ... 5 6 8]\n",
            "Accuracy: 0.8687978132968883\n",
            "Iteration: 680\n",
            "[0 4 1 ... 5 6 8] [0 4 1 ... 5 6 8]\n",
            "Accuracy: 0.8696478274637911\n",
            "Iteration: 690\n",
            "[0 4 1 ... 5 6 8] [0 4 1 ... 5 6 8]\n",
            "Accuracy: 0.8703645060751013\n",
            "Iteration: 700\n",
            "[0 4 1 ... 5 6 8] [0 4 1 ... 5 6 8]\n",
            "Accuracy: 0.8711811863531059\n",
            "Iteration: 710\n",
            "[0 4 1 ... 5 6 8] [0 4 1 ... 5 6 8]\n",
            "Accuracy: 0.8718145302421707\n",
            "Iteration: 720\n",
            "[0 4 1 ... 5 6 8] [0 4 1 ... 5 6 8]\n",
            "Accuracy: 0.8723978732978883\n",
            "Iteration: 730\n",
            "[0 4 1 ... 5 6 8] [0 4 1 ... 5 6 8]\n",
            "Accuracy: 0.8730812180203004\n",
            "Iteration: 740\n",
            "[0 4 1 ... 5 6 8] [0 4 1 ... 5 6 8]\n",
            "Accuracy: 0.8736145602426707\n",
            "Iteration: 750\n",
            "[0 4 1 ... 5 6 8] [0 4 1 ... 5 6 8]\n",
            "Accuracy: 0.8742312371872865\n",
            "Iteration: 760\n",
            "[0 4 1 ... 5 6 8] [0 4 1 ... 5 6 8]\n",
            "Accuracy: 0.8747479124652078\n",
            "Iteration: 770\n",
            "[0 4 1 ... 5 6 8] [0 4 1 ... 5 6 8]\n",
            "Accuracy: 0.8753645894098235\n",
            "Iteration: 780\n",
            "[0 4 1 ... 5 6 8] [0 4 1 ... 5 6 8]\n",
            "Accuracy: 0.8759479324655411\n",
            "Iteration: 790\n",
            "[0 4 1 ... 5 6 8] [0 4 1 ... 5 6 8]\n",
            "Accuracy: 0.8764479407990133\n",
            "Iteration: 800\n",
            "[0 4 1 ... 5 6 8] [0 4 1 ... 5 6 8]\n",
            "Accuracy: 0.8769646160769347\n",
            "Iteration: 810\n",
            "[0 4 1 ... 5 6 8] [0 4 1 ... 5 6 8]\n",
            "Accuracy: 0.8773312888548143\n",
            "Iteration: 820\n",
            "[0 4 1 ... 5 6 8] [0 4 1 ... 5 6 8]\n",
            "Accuracy: 0.8777979632993883\n",
            "Iteration: 830\n",
            "[0 4 1 ... 5 6 8] [0 4 1 ... 5 6 8]\n",
            "Accuracy: 0.8783646394106568\n",
            "Iteration: 840\n",
            "[0 4 1 ... 5 6 8] [0 4 1 ... 5 6 8]\n",
            "Accuracy: 0.8788813146885781\n",
            "Iteration: 850\n",
            "[0 4 1 ... 5 6 8] [0 4 1 ... 5 6 8]\n",
            "Accuracy: 0.879297988299805\n",
            "Iteration: 860\n",
            "[0 4 1 ... 5 6 8] [0 4 1 ... 5 6 8]\n",
            "Accuracy: 0.879764662744379\n",
            "Iteration: 870\n",
            "[0 4 1 ... 5 6 8] [0 4 1 ... 5 6 8]\n",
            "Accuracy: 0.8801146685778096\n",
            "Iteration: 880\n",
            "[0 4 1 ... 5 6 8] [0 4 1 ... 5 6 8]\n",
            "Accuracy: 0.8805980099668328\n",
            "Iteration: 890\n",
            "[0 4 1 ... 5 6 8] [0 4 1 ... 5 6 8]\n",
            "Accuracy: 0.8808980149669161\n",
            "Iteration: 900\n",
            "[0 4 1 ... 5 6 8] [0 4 1 ... 5 6 8]\n",
            "Accuracy: 0.881331355522592\n",
            "Iteration: 910\n",
            "[0 4 1 ... 5 6 8] [0 4 1 ... 5 6 8]\n",
            "Accuracy: 0.8817980299671662\n",
            "Iteration: 920\n",
            "[0 4 1 ... 5 6 8] [0 4 1 ... 5 6 8]\n",
            "Accuracy: 0.8820313671894532\n",
            "Iteration: 930\n",
            "[0 4 1 ... 5 6 8] [0 4 1 ... 5 6 8]\n",
            "Accuracy: 0.8822647044117402\n",
            "Iteration: 940\n",
            "[0 4 1 ... 5 6 8] [0 4 1 ... 5 6 8]\n",
            "Accuracy: 0.8825813763562727\n",
            "Iteration: 950\n",
            "[0 4 1 ... 5 6 8] [0 4 1 ... 5 6 8]\n",
            "Accuracy: 0.8828147135785597\n",
            "Iteration: 960\n",
            "[0 4 1 ... 5 6 8] [0 4 1 ... 5 6 8]\n",
            "Accuracy: 0.8833147219120319\n",
            "Iteration: 970\n",
            "[0 4 1 ... 5 6 8] [0 4 1 ... 5 6 8]\n",
            "Accuracy: 0.883798063301055\n",
            "Iteration: 980\n",
            "[0 4 1 ... 5 6 8] [0 4 1 ... 5 6 8]\n",
            "Accuracy: 0.8840647344122402\n",
            "Iteration: 990\n",
            "[0 4 1 ... 5 6 8] [0 4 1 ... 5 6 8]\n",
            "Accuracy: 0.884464741079018\n"
          ]
        }
      ]
    },
    {
      "cell_type": "markdown",
      "source": [
        "## Testing"
      ],
      "metadata": {
        "id": "9VDoSH6geu3i"
      }
    },
    {
      "cell_type": "markdown",
      "source": [
        "### Read in Test Data"
      ],
      "metadata": {
        "id": "5JZU718a9kph"
      }
    },
    {
      "cell_type": "code",
      "source": [
        "test_data = pd.read_csv(\"/content/drive/My Drive/profesh/Neural Network/mnist_test.csv\")"
      ],
      "metadata": {
        "id": "hi8-twAUeSZg"
      },
      "execution_count": null,
      "outputs": []
    },
    {
      "cell_type": "code",
      "source": [
        "test_data = np.array(test_data)\n",
        "test_labels = test_data[:,0] # the first column\n",
        "test_data = test_data[:,1:].T # slice out the first column, transpose so each input is a column\n",
        "test_data = test_data / 255.0"
      ],
      "metadata": {
        "id": "EMm9v9169kNr"
      },
      "execution_count": null,
      "outputs": []
    },
    {
      "cell_type": "markdown",
      "source": [],
      "metadata": {
        "id": "7rT9v1PM_53f"
      }
    },
    {
      "cell_type": "markdown",
      "source": [
        "### Test Trials"
      ],
      "metadata": {
        "id": "nyeY2hiH-dQO"
      }
    },
    {
      "cell_type": "code",
      "source": [
        "from matplotlib import pyplot as plt\n",
        "\n",
        "\n",
        "def make_predictions(X, W1, b1, W2, b2):\n",
        "    _, _, _, A2 = forward_prop(W1, b1, W2, b2, X)\n",
        "    predictions = get_predictions(A2)\n",
        "    return predictions\n",
        "\n",
        "def test_prediction(index, W1, b1, W2, b2):\n",
        "    current_image = test_data[:, index, None]\n",
        "    prediction = make_predictions(test_data[:, index, None], W1, b1, W2, b2)\n",
        "    label = test_labels[index]\n",
        "    print(\"Prediction: \", prediction)\n",
        "    print(\"Label: \", label)\n",
        "\n",
        "    current_image = current_image.reshape((28, 28)) * 255\n",
        "    plt.gray()\n",
        "    plt.imshow(current_image, interpolation='nearest')\n",
        "    plt.show()"
      ],
      "metadata": {
        "id": "qy0OHC8hSTf3"
      },
      "execution_count": null,
      "outputs": []
    },
    {
      "cell_type": "code",
      "source": [
        "# select 5 random test cases\n",
        "num_tests = 5\n",
        "\n",
        "for i in range(num_tests):\n",
        "  index = np.random.randint(0, test_labels.size)\n",
        "  test_prediction(index, W1, b1, W2, b2)"
      ],
      "metadata": {
        "colab": {
          "base_uri": "https://localhost:8080/",
          "height": 1000
        },
        "id": "u2lm9_qb-pLx",
        "outputId": "94d1470c-96ee-43c0-9bda-70284e39fe90"
      },
      "execution_count": null,
      "outputs": [
        {
          "output_type": "stream",
          "name": "stdout",
          "text": [
            "Prediction:  [1]\n",
            "Label:  1\n"
          ]
        },
        {
          "output_type": "display_data",
          "data": {
            "text/plain": [
              "<Figure size 640x480 with 1 Axes>"
            ],
            "image/png": "[encoded data removed]"
          },
          "metadata": {}
        },
        {
          "output_type": "stream",
          "name": "stdout",
          "text": [
            "Prediction:  [1]\n",
            "Label:  1\n"
          ]
        },
        {
          "output_type": "display_data",
          "data": {
            "text/plain": [
              "<Figure size 640x480 with 1 Axes>"
            ],
            "image/png": "[encoded data removed]"
          },
          "metadata": {}
        },
        {
          "output_type": "stream",
          "name": "stdout",
          "text": [
            "Prediction:  [7]\n",
            "Label:  7\n"
          ]
        },
        {
          "output_type": "display_data",
          "data": {
            "text/plain": [
              "<Figure size 640x480 with 1 Axes>"
            ],
            "image/png": "[encoded data removed]"
          },
          "metadata": {}
        },
        {
          "output_type": "stream",
          "name": "stdout",
          "text": [
            "Prediction:  [5]\n",
            "Label:  5\n"
          ]
        },
        {
          "output_type": "display_data",
          "data": {
            "text/plain": [
              "<Figure size 640x480 with 1 Axes>"
            ],
            "image/png": "[encoded data removed]"
          },
          "metadata": {}
        },
        {
          "output_type": "stream",
          "name": "stdout",
          "text": [
            "Prediction:  [7]\n",
            "Label:  7\n"
          ]
        },
        {
          "output_type": "display_data",
          "data": {
            "text/plain": [
              "<Figure size 640x480 with 1 Axes>"
            ],
            "image/png": "[encoded data removed]"
          },
          "metadata": {}
        }
      ]
    },
    {
      "cell_type": "code",
      "source": [],
      "metadata": {
        "id": "su2PTiVG_DT8"
      },
      "execution_count": null,
      "outputs": []
    }
  ]
}